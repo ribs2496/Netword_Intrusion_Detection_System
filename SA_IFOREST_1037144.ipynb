{
  "nbformat": 4,
  "nbformat_minor": 0,
  "metadata": {
    "colab": {
      "name": "SA_IFOREST_1037144.ipynb",
      "provenance": [],
      "collapsed_sections": []
    },
    "kernelspec": {
      "name": "python3",
      "display_name": "Python 3"
    }
  },
  "cells": [
    {
      "cell_type": "markdown",
      "metadata": {
        "id": "sTKlAXIVYcqA"
      },
      "source": [
        "COMP90073 Assignment 2 - Task 1\n",
        "\n",
        "Name - Ribhav Shridhar\n",
        "\n",
        "Student ID - 1037144\n",
        "\n",
        "Referenced from \n",
        "**- https://github.com/antoinedelplace/Cyberattack-Detection**"
      ]
    },
    {
      "cell_type": "code",
      "metadata": {
        "id": "YgY-BALKX_0s"
      },
      "source": [
        "pip install pyod  # Installing PyOD package "
      ],
      "execution_count": null,
      "outputs": []
    },
    {
      "cell_type": "code",
      "metadata": {
        "id": "WGMLgvCOHK6g"
      },
      "source": [
        "import pandas as pd # Importing required packages\n",
        "import numpy as np\n",
        "from pyod.models.iforest import IForest\n",
        "from sklearn import metrics "
      ],
      "execution_count": null,
      "outputs": []
    },
    {
      "cell_type": "markdown",
      "metadata": {
        "id": "jnySLatkwDvU"
      },
      "source": [
        "Ingesting data from each of the 3 feature sets"
      ]
    },
    {
      "cell_type": "code",
      "metadata": {
        "id": "lUdZf_UgDPMU"
      },
      "source": [
        "train_Data_Set1 = pd.read_hdf('set1.h5', key='data')  \n",
        "train_Data_Set1.reset_index(drop=True, inplace=True)\n",
        "train_Data_Set1.drop('window_id', axis=1, inplace=True)"
      ],
      "execution_count": null,
      "outputs": []
    },
    {
      "cell_type": "code",
      "metadata": {
        "id": "rQLFxfUaDSq9"
      },
      "source": [
        "train_Data_Set2 = pd.read_hdf('set2.h5', key='data')\n",
        "train_Data_Set2.reset_index(drop=True, inplace=True)"
      ],
      "execution_count": null,
      "outputs": []
    },
    {
      "cell_type": "code",
      "metadata": {
        "id": "4y6ig23FsXKF"
      },
      "source": [
        "train_Data_Set3 = pd.read_csv('training_data_set3.csv')\n",
        "train_Data_Set3 = train_Data_Set2.drop(['Unnamed: 0'], axis=1)"
      ],
      "execution_count": null,
      "outputs": []
    },
    {
      "cell_type": "code",
      "metadata": {
        "id": "zDw2r2n6RACj"
      },
      "source": [
        "test_Data_Set1 = pd.read_hdf('test_set1.h5', key='data')\n",
        "test_Data_Set1.reset_index(drop=True, inplace=True)\n",
        "test_Data_Set1.drop('window_id', axis=1, inplace=True)"
      ],
      "execution_count": null,
      "outputs": []
    },
    {
      "cell_type": "code",
      "metadata": {
        "id": "RVNnD5N_cCby"
      },
      "source": [
        "test_Data_Set2 = pd.read_hdf('test_set2.h5', key='data')\n",
        "test_Data_Set2.reset_index(drop=True, inplace=True)"
      ],
      "execution_count": null,
      "outputs": []
    },
    {
      "cell_type": "code",
      "metadata": {
        "id": "imcIeR-su30N"
      },
      "source": [
        "test_Data_Set3 = pd.read_csv('test_set3.csv')\n",
        "test_Data_Set3= test_Data_Set3.drop(['Unnamed: 0'], axis=1)\n",
        "test_Data_Set3.drop(['Duration_max',\t'Duration_median', 'BiDirection_Bytes_median', 'SrcToDst_Bytes_median'], inplace = True, axis = 1)"
      ],
      "execution_count": null,
      "outputs": []
    },
    {
      "cell_type": "code",
      "metadata": {
        "id": "Jkn-fph1eMXf"
      },
      "source": [
        "valid_Data_Set1 = pd.read_hdf('valid_set1.h5', key='data')\n",
        "valid_Data_Set1.reset_index(drop=True, inplace=True)\n",
        "valid_Data_Set1.drop('window_id', axis=1, inplace=True)\n",
        "valid_Set1_Labels = valid_Data_Set1['Label_<lambda>']\n",
        "valid_Data_Set1.drop(['Label_<lambda>'], inplace=True, axis=1)"
      ],
      "execution_count": null,
      "outputs": []
    },
    {
      "cell_type": "code",
      "metadata": {
        "id": "PZKxx6U7eMXs"
      },
      "source": [
        "valid_Data_Set2 = pd.read_hdf('valid_set2.h5', key='data')\n",
        "valid_Data_Set2.reset_index(drop=True, inplace=True)"
      ],
      "execution_count": null,
      "outputs": []
    },
    {
      "cell_type": "code",
      "metadata": {
        "id": "1aZoxIOSxdYL"
      },
      "source": [
        "valid_Data_Set3 = pd.read_csv('valid_set3.csv')\n",
        "valid_Data_Set3= valid_Data_Set3.drop(['Unnamed: 0'], axis=1)\n",
        "valid_Data_Set3.drop(['Duration_max',\t'Duration_median', 'BiDirection_Bytes_median', 'SrcToDst_Bytes_median', 'Label_<lambda>'], inplace = True, axis = 1)"
      ],
      "execution_count": null,
      "outputs": []
    },
    {
      "cell_type": "code",
      "metadata": {
        "id": "UofrTAfqJxp2"
      },
      "source": [
        "Test_Data = pd.read_csv(\"test_data.csv\", header=None)\n",
        "Test_Data.columns = ['Date_Flow_Start', 'Duration','Protocol','Src_IP','Src_Port','Direction','Dst_IP','Dst_Port','State','Source_Service','Dest_Service','Total_Packets','BiDirection_Bytes','SrcToDst_Bytes']"
      ],
      "execution_count": null,
      "outputs": []
    },
    {
      "cell_type": "markdown",
      "metadata": {
        "id": "FrnN365N2bg7"
      },
      "source": [
        "Training the model using Isolation Forest Algorithm"
      ]
    },
    {
      "cell_type": "code",
      "metadata": {
        "id": "bRK-eDllhLZS"
      },
      "source": [
        "clf = IForest() # Initially using the default parameters; contamination = 0.1\n",
        "clf.fit(train_Data_Set1)"
      ],
      "execution_count": null,
      "outputs": []
    },
    {
      "cell_type": "markdown",
      "metadata": {
        "id": "sraPc-LfabwH"
      },
      "source": [
        "Calcalation decision scores for the training data, and computing the threshold"
      ]
    },
    {
      "cell_type": "code",
      "metadata": {
        "id": "GsU8SJICAiK0"
      },
      "source": [
        "train_decision_scores = clf.decision_scores_\n",
        "train_decision_scores_sorted=sorted(train_decision_scores, reverse=True)\n",
        "con_index = round(len(train_Data_Set1) * clf.contamination)\n",
        "threshold = train_decision_scores_sorted[con_index-1] # Calculating threshold based on decision scores and the contamination score"
      ],
      "execution_count": null,
      "outputs": []
    },
    {
      "cell_type": "code",
      "metadata": {
        "id": "yWUuI-pBAiLO"
      },
      "source": [
        "valid_decision_scores = clf1.decision_function(valid_Data_Set1)  # Outlier scores for validation data\n",
        "valid_decision_scores = pd.Series(valid_decision_scores)"
      ],
      "execution_count": null,
      "outputs": []
    },
    {
      "cell_type": "code",
      "metadata": {
        "id": "1EIpcKLXAiLQ"
      },
      "source": [
        "valid_SrcIP = np.load('valid_set1_IPs.npy',allow_pickle=True)"
      ],
      "execution_count": null,
      "outputs": []
    },
    {
      "cell_type": "code",
      "metadata": {
        "id": "vTD-qrwtAiLR"
      },
      "source": [
        "valid_outliers = []\n",
        "y_pred_valid = []\n",
        "for score in range(0,len(valid_decision_scores)):\n",
        "  if valid_decision_scores[score] > threshold:\n",
        "    reg = (valid_SrcIP[score], valid_decision_scores[score])\n",
        "    valid_outliers.append(reg)\n",
        "    y_pred_valid.append(1.0)\n",
        "  else:\n",
        "    y_pred_valid.append(0.0)"
      ],
      "execution_count": null,
      "outputs": []
    },
    {
      "cell_type": "code",
      "metadata": {
        "id": "EgRBgkL9AiLX"
      },
      "source": [
        "precision = metrics.precision_score(Y_valid1, y_pred_valid)\n",
        "accuracy = metrics.accuracy_score(Y_valid1, y_pred_valid)\n",
        "f1 = metrics.f1_score(Y_valid1, y_pred_valid)"
      ],
      "execution_count": null,
      "outputs": []
    },
    {
      "cell_type": "markdown",
      "metadata": {
        "id": "-d8lTDELcGQu"
      },
      "source": [
        "Evaluating the trained model againt the Validation set"
      ]
    },
    {
      "cell_type": "code",
      "metadata": {
        "id": "GqMb6Pu-AiLZ"
      },
      "source": [
        "print(\"Precision: \", precision)\n",
        "print(\"Accuracy: \", accuracy)\n",
        "print(\"F1 Score: \", f1)"
      ],
      "execution_count": null,
      "outputs": []
    },
    {
      "cell_type": "markdown",
      "metadata": {
        "id": "BjnuCkFnoIep"
      },
      "source": [
        "Tuning the parameters"
      ]
    },
    {
      "cell_type": "code",
      "metadata": {
        "id": "MaLjNdSEoT4A"
      },
      "source": [
        "clf = IForest(contamination=0.30)  # Changing contamination level  \n",
        "clf.fit(train_Data_Set1)"
      ],
      "execution_count": null,
      "outputs": []
    },
    {
      "cell_type": "code",
      "metadata": {
        "id": "5186LL29oT4Z"
      },
      "source": [
        "train_decision_scores = clf1.decision_scores_\n",
        "train_decision_scores_sorted=sorted(train_decision_scores, reverse=True)\n",
        "con_index = round(len(X_train1) * clf1.contamination)\n",
        "threshold = train_decision_scores_sorted[con_index-1]"
      ],
      "execution_count": null,
      "outputs": []
    },
    {
      "cell_type": "code",
      "metadata": {
        "id": "oU4-CnC9oT4n"
      },
      "source": [
        "valid_decision_scores = clf1.decision_function(valid_Data_Set1)  # outlier scores\n",
        "valid_decision_scores = pd.Series(valid_decision_scores)"
      ],
      "execution_count": null,
      "outputs": []
    },
    {
      "cell_type": "code",
      "metadata": {
        "id": "6rxMe2cKoT4q"
      },
      "source": [
        "valid_SrcIP = np.load('valid_set1_IPs.npy',allow_pickle=True)"
      ],
      "execution_count": null,
      "outputs": []
    },
    {
      "cell_type": "code",
      "metadata": {
        "id": "L_XyMDVyoT4s"
      },
      "source": [
        "valid_outliers = []\n",
        "y_pred_valid = []\n",
        "for score in range(0,len(valid_decision_scores)):\n",
        "  if valid_decision_scores[score] > threshold:\n",
        "    reg = (valid_SrcIP[score], valid_decision_scores[score])\n",
        "    valid_outliers.append(reg)\n",
        "    y_pred_valid.append(1.0)\n",
        "  else:\n",
        "    y_pred_valid.append(0.0)"
      ],
      "execution_count": null,
      "outputs": []
    },
    {
      "cell_type": "code",
      "metadata": {
        "id": "-tOTLdA2oT4u"
      },
      "source": [
        "precision = metrics.precision_score(valid_Set1_Labels, y_pred_valid)\n",
        "accuracy = metrics.accuracy_score(valid_Set1_Labels, y_pred_valid)\n",
        "f1 = metrics.f1_score(valid_Set1_Labels, y_pred_valid)"
      ],
      "execution_count": null,
      "outputs": []
    },
    {
      "cell_type": "markdown",
      "metadata": {
        "id": "SRGntch6dEDZ"
      },
      "source": [
        "Evaluating the trained model against the validation set"
      ]
    },
    {
      "cell_type": "code",
      "metadata": {
        "id": "hIXyOQkloT4w"
      },
      "source": [
        "print(\"Precision: \", precision)\n",
        "print(\"Accuracy: \", accuracy)\n",
        "print(\"F1 Score: \", f1)"
      ],
      "execution_count": null,
      "outputs": []
    },
    {
      "cell_type": "markdown",
      "metadata": {
        "id": "5N9a16PPdXcZ"
      },
      "source": [
        "Getting predictions for the Test set"
      ]
    },
    {
      "cell_type": "code",
      "metadata": {
        "id": "QYJk4Iq2AiLE"
      },
      "source": [
        "test_decision_scores = clf1.decision_function(test_Data_Set1)  # outlier scores\n",
        "test_decision_scores = pd.Series(test_decision_scores)"
      ],
      "execution_count": null,
      "outputs": []
    },
    {
      "cell_type": "code",
      "metadata": {
        "id": "A0f4gv8RAiLF"
      },
      "source": [
        "test_SrcIP = np.load('test_set1_IPs.npy',allow_pickle=True)"
      ],
      "execution_count": null,
      "outputs": []
    },
    {
      "cell_type": "markdown",
      "metadata": {
        "id": "mfoRKyhMeruS"
      },
      "source": [
        "Getting IP addresses of the predicted outliers"
      ]
    },
    {
      "cell_type": "code",
      "metadata": {
        "id": "Tvuf54D8AiLH"
      },
      "source": [
        "outliers = []\n",
        "y_pred_test = []\n",
        "for score in range(0,len(test_decision_scores)):\n",
        "  if test_decision_scores[score] > threshold:\n",
        "    reg = (test_SrcIP[score], test_decision_scores[score])\n",
        "    outliers.append(reg)\n",
        "    y_pred_test.append(1.0)\n",
        "  else:\n",
        "    y_pred_test.append(0.0)"
      ],
      "execution_count": null,
      "outputs": []
    },
    {
      "cell_type": "code",
      "metadata": {
        "id": "fo4PwomRhrkQ"
      },
      "source": [
        "ips = []\n",
        "for i in outliers:\n",
        "  ips.append(i[0])\n",
        "ips = list(set(ips))"
      ],
      "execution_count": null,
      "outputs": []
    },
    {
      "cell_type": "code",
      "metadata": {
        "id": "bWrENzTPhrkX"
      },
      "source": [
        "cols = pd.DataFrame(columns=['Date_Flow_Start', 'Duration','Protocol','Src_IP','Src_Port','Direction','Dst_IP','Dst_Port','State','Source_Service','Dest_Service','Total_Packets','BiDirection_Bytes','SrcToDst_Bytes'])"
      ],
      "execution_count": null,
      "outputs": []
    },
    {
      "cell_type": "code",
      "metadata": {
        "id": "DgrDjv2ohrkZ"
      },
      "source": [
        "for each in ips:\n",
        "  df = Test_Data[Test_Data.Src_IP == each]\n",
        "  cols = cols.append(df)"
      ],
      "execution_count": null,
      "outputs": []
    },
    {
      "cell_type": "code",
      "metadata": {
        "id": "2PNR_znnhrke"
      },
      "source": [
        "cols.drop(labels=['Direction', 'State', 'Source_Service',\t'Dest_Service', 'Total_Packets', 'BiDirection_Bytes',\t'SrcToDst_Bytes'], inplace=True, axis=1)"
      ],
      "execution_count": null,
      "outputs": []
    },
    {
      "cell_type": "code",
      "metadata": {
        "id": "eKSNgnPthrki"
      },
      "source": [
        "cols.to_csv('Set1_iForest_1037144.csv', index = True)"
      ],
      "execution_count": null,
      "outputs": []
    },
    {
      "cell_type": "markdown",
      "metadata": {
        "id": "_3zVcQwswFaw"
      },
      "source": [
        "Repeating the same processes for 2nd set"
      ]
    },
    {
      "cell_type": "code",
      "metadata": {
        "id": "16S56KUHwQir"
      },
      "source": [
        "clf = IForest() \n",
        "clf.fit(train_Data_Set2)"
      ],
      "execution_count": null,
      "outputs": []
    },
    {
      "cell_type": "code",
      "metadata": {
        "id": "S2xSxllCwQi2"
      },
      "source": [
        "decision_scores = clf1.decision_scores_\n",
        "decision_scores_sorted=sorted(decision_scores, reverse=True)\n",
        "con_index = round(len(train_Data_Set1) * clf.contamination)\n",
        "threshold = decision_scores_sorted[con_index-1]"
      ],
      "execution_count": null,
      "outputs": []
    },
    {
      "cell_type": "code",
      "metadata": {
        "id": "V2SaN7jywQje"
      },
      "source": [
        "valid_decision_scores = clf1.decision_function(valid_Data_Set2)  # outlier scores\n",
        "valid_decision_scores = pd.Series(valid_decision_scores)"
      ],
      "execution_count": null,
      "outputs": []
    },
    {
      "cell_type": "code",
      "metadata": {
        "id": "L-Sh3VA2wQjl"
      },
      "source": [
        "valid_SrcIP = np.load('valid_set2_IPs.npy',allow_pickle=True)"
      ],
      "execution_count": null,
      "outputs": []
    },
    {
      "cell_type": "code",
      "metadata": {
        "id": "1fpw1HA2wQjq"
      },
      "source": [
        "outliers = []\n",
        "y_pred_valid = []\n",
        "for score in range(0,len(valid_decision_scores)):\n",
        "  if valid_decision_scores[score] > threshold:\n",
        "    reg = (valid_SrcIP[score], valid_decision_scores[score])\n",
        "    outliers.append(reg)\n",
        "    y_pred_valid.append(1.0)\n",
        "  else:\n",
        "    y_pred_valid.append(0.0)"
      ],
      "execution_count": null,
      "outputs": []
    },
    {
      "cell_type": "markdown",
      "metadata": {
        "id": "IrcEH84rhIiY"
      },
      "source": [
        "Evaluating the model"
      ]
    },
    {
      "cell_type": "code",
      "metadata": {
        "id": "tIC6IEwQwQjx"
      },
      "source": [
        "precision = metrics.precision_score(valid_Set1_Labels, y_pred_valid) \n",
        "accuracy = metrics.accuracy_score(valid_Set1_Labels, y_pred_valid)\n",
        "f1 = metrics.f1_score(valid_Set1_Labels, y_pred_valid)"
      ],
      "execution_count": null,
      "outputs": []
    },
    {
      "cell_type": "code",
      "metadata": {
        "id": "H4Y_OhJ_wQj5"
      },
      "source": [
        "print(\"Precision: \", precision)\n",
        "print(\"Accuracy: \", accuracy)\n",
        "print(\"F1 Score: \", f1)"
      ],
      "execution_count": null,
      "outputs": []
    },
    {
      "cell_type": "markdown",
      "metadata": {
        "id": "-li0Ok_CwQj_"
      },
      "source": [
        "Tuning the model"
      ]
    },
    {
      "cell_type": "code",
      "metadata": {
        "id": "ceV0knCxwQkB"
      },
      "source": [
        "clf = IForest(contamination=0.25) \n",
        "clf.fit(train_Data_Set2)"
      ],
      "execution_count": null,
      "outputs": []
    },
    {
      "cell_type": "code",
      "metadata": {
        "id": "Sp0EaTSRwQkG"
      },
      "source": [
        "decision_scores = clf1.decision_scores_\n",
        "decision_scores_sorted=sorted(decision_scores, reverse=True)\n",
        "con_index = round(len(train_Data_Set2) * clf.contamination)\n",
        "threshold = decision_scores_sorted[con_index-1]"
      ],
      "execution_count": null,
      "outputs": []
    },
    {
      "cell_type": "code",
      "metadata": {
        "id": "tMh89XqMwQko"
      },
      "source": [
        "valid_decision_scores = clf.decision_function(valid_Data_Set2)  \n",
        "valid_decision_scores = pd.Series(valid_decision_scores)"
      ],
      "execution_count": null,
      "outputs": []
    },
    {
      "cell_type": "code",
      "metadata": {
        "id": "jAAAW8aAwQkw"
      },
      "source": [
        "valid_SrcIP = np.load('valid_set2_IPs.npy',allow_pickle=True)"
      ],
      "execution_count": null,
      "outputs": []
    },
    {
      "cell_type": "code",
      "metadata": {
        "id": "3MkLXVnvwQk4"
      },
      "source": [
        "outliers = []\n",
        "y_pred_valid = []\n",
        "for score in range(0,len(valid_decision_scores)):\n",
        "  if valid_decision_scores[score] > threshold:\n",
        "    reg = (valid_SrcIP[score], valid_decision_scores[score])\n",
        "    outliers.append(reg)\n",
        "    y_pred_valid.append(1.0)\n",
        "  else:\n",
        "    y_pred_valid.append(0.0)"
      ],
      "execution_count": null,
      "outputs": []
    },
    {
      "cell_type": "code",
      "metadata": {
        "id": "XSiGW5EpwQlA"
      },
      "source": [
        "precision = metrics.precision_score(valid_Set1_Labels, y_pred_valid)\n",
        "accuracy = metrics.accuracy_score(valid_Set1_Labels, y_pred_valid)\n",
        "f1 = metrics.f1_score(valid_Set1_Labels, y_pred_valid)"
      ],
      "execution_count": null,
      "outputs": []
    },
    {
      "cell_type": "markdown",
      "metadata": {
        "id": "Apf4ecJFikXC"
      },
      "source": [
        "Evaluating the tuned model"
      ]
    },
    {
      "cell_type": "code",
      "metadata": {
        "id": "PQORMwVqwQlF"
      },
      "source": [
        "print(\"Precision: \", precision)\n",
        "print(\"Accuracy: \", accuracy)\n",
        "print(\"F1 Score: \", f1)"
      ],
      "execution_count": null,
      "outputs": []
    },
    {
      "cell_type": "markdown",
      "metadata": {
        "id": "3TGlRxDyi2-E"
      },
      "source": [
        "Testing the model on the Test Data"
      ]
    },
    {
      "cell_type": "code",
      "metadata": {
        "id": "Jqc-PmhtBqvS"
      },
      "source": [
        "decision_scores = clf.decision_function(test_Data_Set2)  # outlier scores\n",
        "decision_scores = pd.Series(decision_scores)"
      ],
      "execution_count": null,
      "outputs": []
    },
    {
      "cell_type": "code",
      "metadata": {
        "id": "SAVQ6mVmBqvW"
      },
      "source": [
        "test_SrcIP = np.load('test_set2_IPs.npy',allow_pickle=True)"
      ],
      "execution_count": null,
      "outputs": []
    },
    {
      "cell_type": "code",
      "metadata": {
        "id": "f0gK4QeIBqvY"
      },
      "source": [
        "outliers = []\n",
        "y_pred_test = []\n",
        "for score in range(0,len(y_test_scores)):\n",
        "  if y_test_scores[score] > threshold:\n",
        "    reg = (test_SrcIP[score], y_test_scores[score])\n",
        "    outliers.append(reg)\n",
        "    y_pred_test.append(1.0)\n",
        "  else:\n",
        "    y_pred_test.append(0.0)"
      ],
      "execution_count": null,
      "outputs": []
    },
    {
      "cell_type": "code",
      "metadata": {
        "id": "92yxaHXKB6a3"
      },
      "source": [
        "ips = []\n",
        "for each in outliers:\n",
        "  ips.append(each[0])\n",
        "ips = list(set(ips))"
      ],
      "execution_count": null,
      "outputs": []
    },
    {
      "cell_type": "code",
      "metadata": {
        "id": "nlqdUmcLRkHS"
      },
      "source": [
        "cols = pd.DataFrame(columns=['Date_Flow_Start', 'Duration','Protocol','Src_IP','Src_Port','Direction','Dst_IP','Dst_Port','State','Source_Service','Dest_Service','Total_Packets','BiDirection_Bytes','SrcToDst_Bytes'])"
      ],
      "execution_count": null,
      "outputs": []
    },
    {
      "cell_type": "code",
      "metadata": {
        "id": "qZOEK2IGYZbe"
      },
      "source": [
        "for each in ips:\n",
        "  df = Test_Data[Test_Data.Src_IP == each]\n",
        "  cols = cols.append(df)"
      ],
      "execution_count": null,
      "outputs": []
    },
    {
      "cell_type": "code",
      "metadata": {
        "id": "IQVgiQ_zaRyl"
      },
      "source": [
        "cols.drop(labels=['Direction', 'State', 'Source_Service',\t'Dest_Service', 'Total_Packets', 'BiDirection_Bytes',\t'SrcToDst_Bytes'], inplace=True, axis=1)"
      ],
      "execution_count": null,
      "outputs": []
    },
    {
      "cell_type": "code",
      "metadata": {
        "id": "k-eoQzIfeVw5"
      },
      "source": [
        "cols.to_csv('Set2_iForest_1037144.csv', index = True)"
      ],
      "execution_count": null,
      "outputs": []
    },
    {
      "cell_type": "markdown",
      "metadata": {
        "id": "atPjXq7Gp4qT"
      },
      "source": [
        "\n",
        "Now on the 3rd Set"
      ]
    },
    {
      "cell_type": "code",
      "metadata": {
        "id": "VW0JiCsgp4qV"
      },
      "source": [
        "clf = IForest()\n",
        "clf.fit(train_Data_Set3)"
      ],
      "execution_count": null,
      "outputs": []
    },
    {
      "cell_type": "code",
      "metadata": {
        "id": "F_eh6t2xp4qZ"
      },
      "source": [
        "decision_scores = clf1.decision_scores_\n",
        "decision_scores_sorted=sorted(decision_scores, reverse=True)\n",
        "con_index = round(len(X_train3) * clf1.contamination)\n",
        "threshold = decision_scores_sorted[con_index-1]"
      ],
      "execution_count": null,
      "outputs": []
    },
    {
      "cell_type": "code",
      "metadata": {
        "id": "r3bA8f-7p4qi"
      },
      "source": [
        "valid_decision_scores = clf.decision_function(valid_Data_Set3)  # outlier scores\n",
        "valid_decision_scores = pd.Series(valid_decision_scores)"
      ],
      "execution_count": null,
      "outputs": []
    },
    {
      "cell_type": "code",
      "metadata": {
        "id": "IYCR3cs6p4qk"
      },
      "source": [
        "valid_SrcIP = np.load('valid_set2_IPs.npy',allow_pickle=True)"
      ],
      "execution_count": null,
      "outputs": []
    },
    {
      "cell_type": "code",
      "metadata": {
        "id": "4i1HtwcWp4qm"
      },
      "source": [
        "outliers = []\n",
        "y_pred_valid = []\n",
        "for score in range(0,len(valid_decision_scores)):\n",
        "  if valid_decision_scores[score] > threshold:\n",
        "    reg = (valid_SrcIP[score], valid_decision_scores[score])\n",
        "    outliers.append(reg)\n",
        "    y_pred_valid.append(1.0)\n",
        "  else:\n",
        "    y_pred_valid.append(0.0)"
      ],
      "execution_count": null,
      "outputs": []
    },
    {
      "cell_type": "code",
      "metadata": {
        "id": "ICYWeL6jp4qo"
      },
      "source": [
        "precision = metrics.precision_score(valid_Set1_Labels, y_pred_valid)\n",
        "accuracy = metrics.accuracy_score(valid_Set1_Labels, y_pred_valid)\n",
        "f1 = metrics.f1_score(valid_Set1_Labels, y_pred_valid)"
      ],
      "execution_count": null,
      "outputs": []
    },
    {
      "cell_type": "code",
      "metadata": {
        "id": "N6W61aIFp4qq"
      },
      "source": [
        "print(\"Precision: \", precision)\n",
        "print(\"Accuracy: \", accuracy)\n",
        "print(\"F1 Score: \", f1)"
      ],
      "execution_count": null,
      "outputs": []
    },
    {
      "cell_type": "markdown",
      "metadata": {
        "id": "rglEl2OEp4qs"
      },
      "source": [
        "Tuning the model"
      ]
    },
    {
      "cell_type": "code",
      "metadata": {
        "id": "qsiLd2Esp4qs"
      },
      "source": [
        "clf = IForest(contamination=0.20) \n",
        "clf.fit(train_Data_Set3)"
      ],
      "execution_count": null,
      "outputs": []
    },
    {
      "cell_type": "code",
      "metadata": {
        "id": "fUCTDScCp4qu"
      },
      "source": [
        "decision_scores = clf1.decision_scores_\n",
        "decision_scores_sorted=sorted(decision_scores, reverse=True)\n",
        "con_index = round(len(X_train3) * clf1.contamination)\n",
        "threshold = decision_scores_sorted[con_index-1]"
      ],
      "execution_count": null,
      "outputs": []
    },
    {
      "cell_type": "code",
      "metadata": {
        "id": "s_YwybFKp4q5"
      },
      "source": [
        "valid_decision_scores = clf1.decision_function(valid_Data_Set3)  # outlier scores\n",
        "valid_decision_scores = pd.Series(valid_decision_scores)"
      ],
      "execution_count": null,
      "outputs": []
    },
    {
      "cell_type": "code",
      "metadata": {
        "id": "RW0w82q8p4q6"
      },
      "source": [
        "valid_SrcIP = np.load('valid_set2_IPs.npy',allow_pickle=True)"
      ],
      "execution_count": null,
      "outputs": []
    },
    {
      "cell_type": "code",
      "metadata": {
        "id": "IqtlmK8wp4q8"
      },
      "source": [
        "outliers = []\n",
        "y_pred_valid = []\n",
        "for score in range(0,len(y_valid_scores)):\n",
        "  if y_valid_scores[score] > threshold:\n",
        "    reg = (valid_SrcIP[score], y_valid_scores[score])\n",
        "    outliers.append(reg)\n",
        "    y_pred_valid.append(1.0)\n",
        "  else:\n",
        "    y_pred_valid.append(0.0)"
      ],
      "execution_count": null,
      "outputs": []
    },
    {
      "cell_type": "code",
      "metadata": {
        "id": "y2ULkL3zp4q-"
      },
      "source": [
        "precision = metrics.precision_score(valid_Set1_Labels, y_pred_valid)\n",
        "accuracy = metrics.accuracy_score(valid_Set1_Labels, y_pred_valid)\n",
        "f1 = metrics.f1_score(valid_Set1_Labels, y_pred_valid)"
      ],
      "execution_count": null,
      "outputs": []
    },
    {
      "cell_type": "code",
      "metadata": {
        "id": "gwZkVWdVp4q_"
      },
      "source": [
        "print(\"Precision: \", precision)\n",
        "print(\"Accuracy: \", accuracy)\n",
        "print(\"F1 Score: \", f1)"
      ],
      "execution_count": null,
      "outputs": []
    },
    {
      "cell_type": "markdown",
      "metadata": {
        "id": "I8zQCqdMn9Jh"
      },
      "source": [
        "Testing the model now on the test set 3"
      ]
    },
    {
      "cell_type": "code",
      "metadata": {
        "id": "JHEj7xFRp4rB"
      },
      "source": [
        "valid_decision_scores = clf1.decision_function(test_Data_Set3)  # outlier scores\n",
        "valid_decision_scores = pd.Series(valid_decision_scores)"
      ],
      "execution_count": null,
      "outputs": []
    },
    {
      "cell_type": "code",
      "metadata": {
        "id": "VJsd3Wn6p4rD"
      },
      "source": [
        "test_SrcIP = np.load('test_set2_IPs.npy',allow_pickle=True)"
      ],
      "execution_count": null,
      "outputs": []
    },
    {
      "cell_type": "code",
      "metadata": {
        "id": "sJXw-r3xp4rF"
      },
      "source": [
        "outliers = []\n",
        "y_pred_test = []\n",
        "for score in range(0,len(y_test_scores)):\n",
        "  if y_test_scores[score] > threshold:\n",
        "    reg = (test_SrcIP[score], y_test_scores[score])\n",
        "    test_outliers.append(reg)\n",
        "    y_pred_test.append(1.0)\n",
        "  else:\n",
        "    y_pred_test.append(0.0)"
      ],
      "execution_count": null,
      "outputs": []
    },
    {
      "cell_type": "code",
      "metadata": {
        "id": "mooF1Kynp4rK"
      },
      "source": [
        "ips = []\n",
        "for each in outliers:\n",
        "  ips.append(each[0])\n",
        "ips = list(set(ips))"
      ],
      "execution_count": null,
      "outputs": []
    },
    {
      "cell_type": "code",
      "metadata": {
        "id": "4FzlmA1Tp4rO"
      },
      "source": [
        "cols = pd.DataFrame(columns=['Date_Flow_Start', 'Duration','Protocol','Src_IP','Src_Port','Direction','Dst_IP','Dst_Port','State','Source_Service','Dest_Service','Total_Packets','BiDirection_Bytes','SrcToDst_Bytes'])"
      ],
      "execution_count": null,
      "outputs": []
    },
    {
      "cell_type": "code",
      "metadata": {
        "id": "9s7ZMpuvp4rP"
      },
      "source": [
        "for i in ips:\n",
        "  df = Test_Data[Test_Data.Src_IP == i]\n",
        "  cols = cols.append(df)"
      ],
      "execution_count": null,
      "outputs": []
    },
    {
      "cell_type": "code",
      "metadata": {
        "id": "zJGdpMd1p4rT"
      },
      "source": [
        "cols.drop(labels=['Direction', 'State', 'Source_Service',\t'Dest_Service', 'Total_Packets', 'BiDirection_Bytes',\t'SrcToDst_Bytes'], inplace=True, axis=1)"
      ],
      "execution_count": null,
      "outputs": []
    },
    {
      "cell_type": "code",
      "metadata": {
        "id": "kq8w2_Q8p4rX"
      },
      "source": [
        "cols.to_csv('Set3_iForest_1037144.csv', index = True)"
      ],
      "execution_count": null,
      "outputs": []
    }
  ]
}